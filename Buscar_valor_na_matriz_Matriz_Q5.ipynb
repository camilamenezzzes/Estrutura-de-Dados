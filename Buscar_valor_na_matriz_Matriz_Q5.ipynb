{
  "nbformat": 4,
  "nbformat_minor": 0,
  "metadata": {
    "colab": {
      "provenance": [],
      "authorship_tag": "ABX9TyMsQDo3dD2pvsnofmY6LvKq"
    },
    "kernelspec": {
      "name": "python3",
      "display_name": "Python 3"
    },
    "language_info": {
      "name": "python"
    }
  },
  "cells": [
    {
      "cell_type": "code",
      "execution_count": null,
      "metadata": {
        "colab": {
          "base_uri": "https://localhost:8080/"
        },
        "id": "PfoD2Iy1Xrem",
        "outputId": "ef74a5ff-8729-4004-f509-42792f3eb8a6"
      },
      "outputs": [
        {
          "output_type": "stream",
          "name": "stdout",
          "text": [
            "Digite a quantidade de linhas da matriz \t2\n",
            "Digite a quantidade de colunas da matriz \t2\n",
            "Digite um valor a ser buscado\t5\n",
            "Digite um valor para preencher a matriz\t20\n",
            "Digite um valor para preencher a matriz\t60\n",
            "Digite um valor para preencher a matriz\t4\n",
            "Digite um valor para preencher a matriz\t2\n",
            "[20, 60]\n",
            "[4, 2]\n",
            "O elemento não foi encontrado\n"
          ]
        }
      ],
      "source": [
        "#QUESTÃO DE PROVA: 5 - Leia uma matriz 5 x 5. Leia também um valor X. O programa deverá fazer uma busca desse valor na\n",
        "#matriz e, ao final, escrever a localização (linha e coluna) ou uma mensagem de “não encontrado”.\n",
        "chave = 0\n",
        "pos_linha = 0\n",
        "pos_coluna = 0\n",
        "achou = 0\n",
        "linha = int(input(\"Digite a quantidade de linhas da matriz \\t\"))\n",
        "coluna = int(input(\"Digite a quantidade de colunas da matriz \\t\"))\n",
        "matriz = [0] * linha\n",
        "\n",
        "for l in range(len(matriz)):\n",
        "  matriz[l] = [0]*coluna\n",
        "\n",
        "chave = int(input(\"Digite um valor a ser buscado\\t\"))\n",
        "\n",
        "for l in range(len(matriz)):\n",
        "  for c in range(len(matriz[l])):\n",
        "    matriz[l][c] = int(input(\"Digite um valor para preencher a matriz\\t\"))\n",
        "    if matriz[l][c] == chave:\n",
        "      pos_linha = l\n",
        "      pos_coluna = c\n",
        "      achou = 1\n",
        "\n",
        "for l in range(len(matriz)):\n",
        "  print(matriz[l])\n",
        "\n",
        "if achou == 1:\n",
        "  print(\"O elemento está na linha\", pos_linha,\"e na coluna\", pos_coluna)\n",
        "else:\n",
        "  print(\"O elemento não foi encontrado\")"
      ]
    }
  ]
}